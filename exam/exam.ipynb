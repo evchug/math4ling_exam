{
 "cells": [
  {
   "cell_type": "code",
   "execution_count": 15,
   "metadata": {},
   "outputs": [],
   "source": [
    "transitions3 = [[1, 2, -1, -1, 3, 2], [1, 2, -1, -1, -1, 0], [2, 2, 2, 1, 1, 1], [1, 2, -1, -1, -1, 2]]\n",
    "final = [0, 0, 0, 1, 0]\n",
    "output = [['','','','','id,sign', ''], ['','','','','','sign'],['','','','id, sign','', 'id, sign'],['','','','','', 'sign']]\n",
    "\n",
    "def char2code3(s):\n",
    "    if s == '_':\n",
    "        return 0\n",
    "    elif s >= 'a' and s <= 'z':\n",
    "        return 1\n",
    "    elif s >= '0' and s <= '9':\n",
    "        return 2\n",
    "    elif s >= 'а' and s <= 'я':\n",
    "        return 3\n",
    "    elif s in ['*', '/', '-', '+']:\n",
    "        return 4\n",
    "    elif s in [' ', '.', ',']:\n",
    "        return 5\n",
    "\n",
    "def isIdentifier3(line):\n",
    "    state = 0\n",
    "    correct = True\n",
    "    for s in line:\n",
    "        out = output[state][char2code3(s)]\n",
    "        state = transitions3[state][char2code3(s)]\n",
    "        if out != '':\n",
    "            print(\"-> \", out)\n",
    "        if state == -1:\n",
    "            correct = False\n",
    "            break\n",
    "    if correct and final[state] == 1:\n",
    "        print(\"-> id\")\n",
    "    return correct and final[state] == 1"
   ]
  },
  {
   "cell_type": "code",
   "execution_count": 22,
   "metadata": {},
   "outputs": [
    {
     "name": "stdout",
     "output_type": "stream",
     "text": [
      "False\n",
      "->  id,sign\n",
      "False\n",
      "False\n",
      "False\n",
      "->  id,sign\n",
      "False\n"
     ]
    }
   ],
   "source": [
    "print(isIdentifier3('аба+'))\n",
    "print(isIdentifier3('+а-bcd+я'))\n",
    "print(isIdentifier3('asg/'))\n",
    "print(isIdentifier3('asd+асд'))\n",
    "print(isIdentifier3('-_asd*dsw_sd'))"
   ]
  },
  {
   "cell_type": "code",
   "execution_count": null,
   "metadata": {},
   "outputs": [],
   "source": []
  }
 ],
 "metadata": {
  "kernelspec": {
   "display_name": "Python 3",
   "language": "python",
   "name": "python3"
  },
  "language_info": {
   "codemirror_mode": {
    "name": "ipython",
    "version": 3
   },
   "file_extension": ".py",
   "mimetype": "text/x-python",
   "name": "python",
   "nbconvert_exporter": "python",
   "pygments_lexer": "ipython3",
   "version": "3.7.5"
  }
 },
 "nbformat": 4,
 "nbformat_minor": 4
}
